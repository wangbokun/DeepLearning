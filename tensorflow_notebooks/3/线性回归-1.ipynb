{
 "cells": [
  {
   "cell_type": "code",
   "execution_count": 2,
   "metadata": {},
   "outputs": [
    {
     "name": "stdout",
     "output_type": "stream",
     "text": [
      "Epoch:1 cost:2.554173470 W: 0.0239771 b: 0.0557753\n",
      "Epoch:51 cost:0.103684157 W: 0.341068 b: 0.143406\n",
      "Epoch:101 cost:0.100595787 W: 0.335628 b: 0.182544\n",
      "Epoch:151 cost:0.097864270 W: 0.330511 b: 0.219355\n",
      "Epoch:201 cost:0.095448464 W: 0.325698 b: 0.253976\n",
      "Epoch:251 cost:0.093311891 W: 0.321172 b: 0.286537\n",
      "Epoch:301 cost:0.091422237 W: 0.316915 b: 0.317163\n",
      "Epoch:351 cost:0.089751042 W: 0.312911 b: 0.345967\n",
      "Epoch:401 cost:0.088273041 W: 0.309145 b: 0.373058\n",
      "Epoch:451 cost:0.086965941 W: 0.305603 b: 0.398538\n",
      "Epoch:501 cost:0.085810006 W: 0.302272 b: 0.422502\n",
      "Epoch:551 cost:0.084787764 W: 0.299139 b: 0.445041\n",
      "Epoch:601 cost:0.083883747 W: 0.296192 b: 0.46624\n",
      "Epoch:651 cost:0.083084285 W: 0.293421 b: 0.486178\n",
      "Epoch:701 cost:0.082377389 W: 0.290814 b: 0.504929\n",
      "Epoch:751 cost:0.081752270 W: 0.288363 b: 0.522565\n",
      "Epoch:801 cost:0.081199504 W: 0.286057 b: 0.539152\n",
      "Epoch:851 cost:0.080710709 W: 0.283888 b: 0.554754\n",
      "Epoch:901 cost:0.080278508 W: 0.281849 b: 0.569427\n",
      "Epoch:951 cost:0.079896346 W: 0.27993 b: 0.583228\n",
      "Epoch:1001 cost:0.079558440 W: 0.278126 b: 0.596209\n",
      "Epoch:1051 cost:0.079259701 W: 0.276428 b: 0.608419\n",
      "Epoch:1101 cost:0.078995600 W: 0.274833 b: 0.619899\n",
      "Epoch:1151 cost:0.078762121 W: 0.273332 b: 0.630698\n",
      "Epoch:1201 cost:0.078555740 W: 0.27192 b: 0.640853\n",
      "Epoch:1251 cost:0.078373268 W: 0.270592 b: 0.650405\n",
      "Epoch:1301 cost:0.078211963 W: 0.269343 b: 0.659388\n",
      "Epoch:1351 cost:0.078069389 W: 0.268169 b: 0.667838\n",
      "Epoch:1401 cost:0.077943355 W: 0.267064 b: 0.675785\n",
      "Epoch:1451 cost:0.077831984 W: 0.266025 b: 0.683259\n",
      "Epoch:1501 cost:0.077733517 W: 0.265048 b: 0.690289\n",
      "Epoch:1551 cost:0.077646531 W: 0.264129 b: 0.696901\n",
      "Epoch:1601 cost:0.077569604 W: 0.263264 b: 0.70312\n",
      "Epoch:1651 cost:0.077501670 W: 0.262451 b: 0.708969\n",
      "Epoch:1701 cost:0.077441633 W: 0.261687 b: 0.714471\n",
      "Epoch:1751 cost:0.077388570 W: 0.260967 b: 0.719645\n",
      "Epoch:1801 cost:0.077341720 W: 0.260291 b: 0.724512\n",
      "Epoch:1851 cost:0.077300303 W: 0.259655 b: 0.729089\n",
      "Epoch:1901 cost:0.077263713 W: 0.259056 b: 0.733395\n",
      "Epoch:1951 cost:0.077231444 W: 0.258493 b: 0.737443\n",
      "Optimization Finished!\n",
      "Epoch:2000 cost:0.077203453 W: 0.257974 b: 0.741178\n"
     ]
    },
    {
     "data": {
      "image/png": "[encoded data removed]",
      "text/plain": [
       "<matplotlib.figure.Figure at 0x11dc27da0>"
      ]
     },
     "metadata": {},
     "output_type": "display_data"
    }
   ],
   "source": [
    "import os\n",
    "os.environ['TF_CPP_MIN_LOG_LEVEL'] = '3'\n",
    "\n",
    "import tensorflow as tf\n",
    "import numpy as np\n",
    "import matplotlib.pyplot as plt\n",
    "\n",
    "learning_rate = 0.01\n",
    "training_epochs = 2000\n",
    "display_step = 50\n",
    "\n",
    "\n",
    "#Training Data\n",
    "train_X = np.array([3.3,4.4,5.5,6.71,6.93,4.168,9.779,6.182,7.59,2.167,7.042,10.791,5.313,7.997,5.654,9.27,3.1])\n",
    "train_y = np.array([1.7,2.76,2.09,3.19,1.694,1.573,3.366,2.596,2.53,1.221,2.827,3.465,1.65,2.904,2.42,2.94,1.3])\n",
    "n_samples = train_X.shape[0]\n",
    "\n",
    "X = tf.placeholder(tf.float32)\n",
    "Y = tf.placeholder(tf.float32)\n",
    "\n",
    "W = tf.Variable(np.random.randn())\n",
    "b = tf.Variable(np.random.randn())\n",
    "activation = W * X + b\n",
    "# activation = tf.add(tf.multiply(X,W), b)\n",
    "\n",
    "cost = tf.reduce_sum(tf.square(activation-Y)) / (2 * n_samples)\n",
    "optimizer = tf.train.GradientDescentOptimizer(learning_rate).minimize(cost)\n",
    "\n",
    "init = tf.global_variables_initializer()\n",
    "\n",
    "with tf.Session() as sess:\n",
    "    sess.run(init)\n",
    "\n",
    "    for epoch in range(training_epochs):\n",
    "        for (x,y) in zip(train_X,train_y):\n",
    "            sess.run(optimizer, feed_dict={X:x,Y:y})\n",
    "\n",
    "        if epoch % display_step == 0:\n",
    "            print('Epoch:%d' % (epoch+1),'cost:{:.9f}'.format(sess.run(cost,feed_dict={X:train_X,Y:train_y})),\\\n",
    "                  'W:',sess.run(W),'b:',sess.run(b))\n",
    "\n",
    "    print(\"Optimization Finished!\")\n",
    "    print('Epoch:%d' % (epoch + 1), 'cost:{:.9f}'.format(sess.run(cost, feed_dict={X: train_X, Y: train_y})), \\\n",
    "          'W:', sess.run(W), 'b:', sess.run(b))\n",
    "\n",
    "    plt.scatter(train_X, train_y,c='r',marker='o')\n",
    "    plt.plot(train_X, sess.run(W) * train_X + sess.run(b))\n",
    "    plt.show()"
   ]
  }
 ],
 "metadata": {
  "kernelspec": {
   "display_name": "Python 3",
   "language": "python",
   "name": "python3"
  },
  "language_info": {
   "codemirror_mode": {
    "name": "ipython",
    "version": 3
   },
   "file_extension": ".py",
   "mimetype": "text/x-python",
   "name": "python",
   "nbconvert_exporter": "python",
   "pygments_lexer": "ipython3",
   "version": "3.5.0"
  }
 },
 "nbformat": 4,
 "nbformat_minor": 2
}
