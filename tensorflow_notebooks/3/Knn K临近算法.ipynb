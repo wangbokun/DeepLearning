{
 "cells": [
  {
   "cell_type": "code",
   "execution_count": 1,
   "metadata": {},
   "outputs": [],
   "source": [
    "import math"
   ]
  },
  {
   "cell_type": "code",
   "execution_count": 39,
   "metadata": {},
   "outputs": [
    {
     "name": "stdout",
     "output_type": "stream",
     "text": [
      "29.0\n",
      "29.0\n"
     ]
    }
   ],
   "source": [
    "def ComputeEulideanDistance(x1, y1, x2, y2):\n",
    "    context = math.sqrt(math.pow((x1 - x2),2)) +  math.sqrt(math.pow(( y1 - y2),2))\n",
    "    return context\n",
    "\n",
    " \n",
    "print(ComputeEulideanDistance(3,104,18,90))\n",
    "\n",
    "print(ComputeEulideanDistance(18,90,3,104))"
   ]
  },
  {
   "cell_type": "code",
   "execution_count": 40,
   "metadata": {},
   "outputs": [
    {
     "name": "stdout",
     "output_type": "stream",
     "text": [
      "['setosa' 'versicolor' 'virginica']\n",
      "[0]\n"
     ]
    }
   ],
   "source": [
    "#example  example\n",
    "\n",
    "from sklearn import neighbors\n",
    "from sklearn import datasets\n",
    "\n",
    "knn =  neighbors.KNeighborsClassifier()\n",
    "\n",
    "iris = datasets.load_iris()\n",
    "\n",
    "#print(iris.data)\n",
    "\n",
    "knn.fit(iris.data,iris.target)\n",
    "\n",
    "\n",
    "predictedLable = knn.predict([[0.1,0.2,0.3,0.4]])\n",
    "\n",
    "print(iris.target_names)\n",
    "print(predictedLable)\n"
   ]
  },
  {
   "cell_type": "code",
   "execution_count": 22,
   "metadata": {},
   "outputs": [
    {
     "data": {
      "text/plain": [
       "29.0"
      ]
     },
     "execution_count": 22,
     "metadata": {},
     "output_type": "execute_result"
    }
   ],
   "source": [
    "math.sqrt(math.pow((3 - 18),2)) +  math.sqrt(math.pow(( 104 - 90),2))"
   ]
  }
 ],
 "metadata": {
  "kernelspec": {
   "display_name": "Python 3",
   "language": "python",
   "name": "python3"
  },
  "language_info": {
   "codemirror_mode": {
    "name": "ipython",
    "version": 3
   },
   "file_extension": ".py",
   "mimetype": "text/x-python",
   "name": "python",
   "nbconvert_exporter": "python",
   "pygments_lexer": "ipython3",
   "version": "3.5.0"
  }
 },
 "nbformat": 4,
 "nbformat_minor": 2
}
