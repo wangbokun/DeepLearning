{
 "cells": [
  {
   "cell_type": "code",
   "execution_count": null,
   "metadata": {},
   "outputs": [],
   "source": [
    "#跑的很慢  blog http://blog.csdn.net/u010099080/article/details/52894773"
   ]
  },
  {
   "cell_type": "code",
   "execution_count": null,
   "metadata": {},
   "outputs": [
    {
     "name": "stdout",
     "output_type": "stream",
     "text": [
      "Epoch: 0050 cost= 2283260928.000 W= 20.3467 b= 12946.7\n",
      "Epoch: 0100 cost= 2196297984.000 W= 19.0348 b= 24403.6\n",
      "Epoch: 0150 cost= 2128094208.000 W= 17.8764 b= 34480.3\n",
      "Epoch: 0200 cost= 2074896896.000 W= 16.8602 b= 43293.1\n"
     ]
    }
   ],
   "source": [
    "from __future__ import print_function, division\n",
    "import tensorflow as tf\n",
    "import pandas as pd\n",
    "import numpy as np\n",
    "import matplotlib.pyplot as plt\n",
    "import seaborn\n",
    "# 我是在Jupyter Notebook里运行的，所以需要这行\n",
    "#%matplotlib inline\n",
    "\n",
    "# 读入数据\n",
    "train = pd.read_csv(\"Dataset/train.csv\")\n",
    "# 选取房屋面积小于１２０００的数据\n",
    "train = train[train['LotArea'] < 12000]\n",
    "train_X = train['LotArea'].values.reshape(-1, 1)\n",
    "train_Y = train['SalePrice'].values.reshape(-1, 1)\n",
    "\n",
    "n_samples = train_X.shape[0]\n",
    "# 学习率\n",
    "learning_rate = 2\n",
    "# 迭代次数\n",
    "training_epochs = 1000\n",
    "# 每多少次输出一次迭代结果\n",
    "display_step = 50\n",
    "\n",
    "# 这个X和Y和上面的train_X,train_Y是不一样的，这里只是个占位符，\n",
    "# 训练开始的时候需要“喂”(feed)数据给它\n",
    "X = tf.placeholder(tf.float32)\n",
    "Y = tf.placeholder(tf.float32)\n",
    "# 定义模型参数\n",
    "W = tf.Variable(np.random.randn(), name=\"weight\", dtype=tf.float32)\n",
    "b = tf.Variable(np.random.randn(), name=\"bias\", dtype=tf.float32)\n",
    "\n",
    "# 定义模型\n",
    "pred = tf.add(tf.multiply(W, X), b)\n",
    "# 定义损失函数\n",
    "cost = tf.reduce_sum(tf.pow(pred-Y, 2)) / (2 * n_samples)\n",
    "# 使用Adam算法，至于为什么不使用一般的梯度下降算法，一会说\n",
    "optimizer = tf.train.AdamOptimizer(learning_rate).minimize(cost)\n",
    "\n",
    "# 初始化所有变量\n",
    "init = tf.global_variables_initializer()\n",
    "\n",
    "# 训练开始\n",
    "with tf.Session() as sess:\n",
    "    sess.run(init)\n",
    "\n",
    "    for epoch in range(training_epochs):\n",
    "        for (x, y) in zip(train_X, train_Y):\n",
    "            sess.run(optimizer, feed_dict={X: x, Y: y})\n",
    "\n",
    "        if (epoch + 1) % display_step == 0:\n",
    "            c = sess.run(cost, feed_dict={X: train_X, Y: train_Y})\n",
    "            print(\"Epoch:\", '%04d' % (epoch + 1), \"cost=\", \"{:.3f}\".format(c), \"W=\", sess.run(W), \"b=\", sess.run(b))\n",
    "\n",
    "    print(\"Optimization Finished!\")\n",
    "    training_cost = sess.run(cost, feed_dict={X: train_X, Y: train_Y})\n",
    "    print(\"Training cost=\", training_cost, \"W=\", sess.run(W), \"b=\", sess.run(b), '\\n')\n",
    "\n",
    "    # 画图\n",
    "    plt.plot(train_X, train_Y, 'ro', label=\"Original data\")\n",
    "    plt.plot(train_X, sess.run(W) * train_X + sess.run(b), label=\"Fitted line\")\n",
    "    plt.legend()\n",
    "    plt.show()"
   ]
  },
  {
   "cell_type": "code",
   "execution_count": null,
   "metadata": {},
   "outputs": [],
   "source": []
  }
 ],
 "metadata": {
  "kernelspec": {
   "display_name": "Python 3",
   "language": "python",
   "name": "python3"
  },
  "language_info": {
   "codemirror_mode": {
    "name": "ipython",
    "version": 3
   },
   "file_extension": ".py",
   "mimetype": "text/x-python",
   "name": "python",
   "nbconvert_exporter": "python",
   "pygments_lexer": "ipython3",
   "version": "3.5.0"
  }
 },
 "nbformat": 4,
 "nbformat_minor": 2
}
