{
 "cells": [
  {
   "cell_type": "code",
   "execution_count": null,
   "metadata": {},
   "outputs": [],
   "source": [
    "#跑的很慢  blog http://blog.csdn.net/u010099080/article/details/52894773"
   ]
  },
  {
   "cell_type": "code",
   "execution_count": 2,
   "metadata": {},
   "outputs": [
    {
     "name": "stdout",
     "output_type": "stream",
     "text": [
      "Epoch: 0050 cost= 2283267840.000 W= 20.3468 b= 12946.1\n",
      "Epoch: 0100 cost= 2196301312.000 W= 19.0348 b= 24403.0\n",
      "Epoch: 0150 cost= 2128098304.000 W= 17.8765 b= 34479.8\n",
      "Epoch: 0200 cost= 2074898560.000 W= 16.8603 b= 43292.7\n",
      "Epoch: 0250 cost= 2033543424.000 W= 15.9734 b= 50965.6\n",
      "Epoch: 0300 cost= 2001449728.000 W= 15.2025 b= 57622.5\n",
      "Epoch: 0350 cost= 1976552448.000 W= 14.5347 b= 63380.7\n",
      "Epoch: 0400 cost= 1957217920.000 W= 13.9576 b= 68350.8\n",
      "Epoch: 0450 cost= 1942166656.000 W= 13.4598 b= 72634.6\n",
      "Epoch: 0500 cost= 1930413056.000 W= 13.0309 b= 76322.4\n",
      "Epoch: 0550 cost= 1921199744.000 W= 12.6618 b= 79494.4\n",
      "Epoch: 0600 cost= 1913948800.000 W= 12.3445 b= 82220.4\n",
      "Epoch: 0650 cost= 1908209408.000 W= 12.0717 b= 84563.0\n",
      "Epoch: 0700 cost= 1903651584.000 W= 11.8376 b= 86572.5\n",
      "Epoch: 0750 cost= 1900003840.000 W= 11.6364 b= 88299.8\n",
      "Epoch: 0800 cost= 1897074560.000 W= 11.4638 b= 89781.1\n",
      "Epoch: 0850 cost= 1894714496.000 W= 11.3161 b= 91048.4\n",
      "Epoch: 0900 cost= 1892791936.000 W= 11.189 b= 92139.6\n",
      "Epoch: 0950 cost= 1891217408.000 W= 11.0795 b= 93078.4\n",
      "Epoch: 1000 cost= 1889932672.000 W= 10.9862 b= 93879.4\n",
      "Optimization Finished!\n",
      "Training cost= 1.88993e+09 W= 10.9862 b= 93879.4 \n",
      "\n"
     ]
    },
    {
     "data": {
      "image/png": "[encoded data removed]",
      "text/plain": [
       "<matplotlib.figure.Figure at 0x120131d68>"
      ]
     },
     "metadata": {},
     "output_type": "display_data"
    }
   ],
   "source": [
    "from __future__ import print_function, division\n",
    "import tensorflow as tf\n",
    "import pandas as pd\n",
    "import numpy as np\n",
    "import matplotlib.pyplot as plt\n",
    "import seaborn\n",
    "# 我是在Jupyter Notebook里运行的，所以需要这行\n",
    "#%matplotlib inline\n",
    "\n",
    "# 读入数据\n",
    "train = pd.read_csv(\"Dataset/train.csv\")\n",
    "# 选取房屋面积小于１２０００的数据\n",
    "train = train[train['LotArea'] < 12000]\n",
    "train_X = train['LotArea'].values.reshape(-1, 1)\n",
    "train_Y = train['SalePrice'].values.reshape(-1, 1)\n",
    "\n",
    "n_samples = train_X.shape[0]\n",
    "# 学习率\n",
    "learning_rate = 2\n",
    "# 迭代次数\n",
    "training_epochs = 1000\n",
    "# 每多少次输出一次迭代结果\n",
    "display_step = 50\n",
    "\n",
    "# 这个X和Y和上面的train_X,train_Y是不一样的，这里只是个占位符，\n",
    "# 训练开始的时候需要“喂”(feed)数据给它\n",
    "X = tf.placeholder(tf.float32)\n",
    "Y = tf.placeholder(tf.float32)\n",
    "# 定义模型参数\n",
    "W = tf.Variable(np.random.randn(), name=\"weight\", dtype=tf.float32)\n",
    "b = tf.Variable(np.random.randn(), name=\"bias\", dtype=tf.float32)\n",
    "\n",
    "# 定义模型\n",
    "pred = tf.add(tf.multiply(W, X), b)\n",
    "# 定义损失函数\n",
    "cost = tf.reduce_sum(tf.pow(pred-Y, 2)) / (2 * n_samples)\n",
    "# 使用Adam算法，至于为什么不使用一般的梯度下降算法，一会说\n",
    "optimizer = tf.train.AdamOptimizer(learning_rate).minimize(cost)\n",
    "\n",
    "# 初始化所有变量\n",
    "init = tf.global_variables_initializer()\n",
    "\n",
    "# 训练开始\n",
    "with tf.Session() as sess:\n",
    "    sess.run(init)\n",
    "\n",
    "    for epoch in range(training_epochs):\n",
    "        for (x, y) in zip(train_X, train_Y):\n",
    "            sess.run(optimizer, feed_dict={X: x, Y: y})\n",
    "\n",
    "        if (epoch + 1) % display_step == 0:\n",
    "            c = sess.run(cost, feed_dict={X: train_X, Y: train_Y})\n",
    "            print(\"Epoch:\", '%04d' % (epoch + 1), \"cost=\", \"{:.3f}\".format(c), \"W=\", sess.run(W), \"b=\", sess.run(b))\n",
    "\n",
    "    print(\"Optimization Finished!\")\n",
    "    training_cost = sess.run(cost, feed_dict={X: train_X, Y: train_Y})\n",
    "    print(\"Training cost=\", training_cost, \"W=\", sess.run(W), \"b=\", sess.run(b), '\\n')\n",
    "\n",
    "    # 画图\n",
    "    plt.plot(train_X, train_Y, 'ro', label=\"Original data\")\n",
    "    plt.plot(train_X, sess.run(W) * train_X + sess.run(b), label=\"Fitted line\")\n",
    "    plt.legend()\n",
    "    plt.show()"
   ]
  },
  {
   "cell_type": "code",
   "execution_count": null,
   "metadata": {},
   "outputs": [],
   "source": []
  }
 ],
 "metadata": {
  "kernelspec": {
   "display_name": "Python 3",
   "language": "python",
   "name": "python3"
  },
  "language_info": {
   "codemirror_mode": {
    "name": "ipython",
    "version": 3
   },
   "file_extension": ".py",
   "mimetype": "text/x-python",
   "name": "python",
   "nbconvert_exporter": "python",
   "pygments_lexer": "ipython3",
   "version": "3.5.0"
  }
 },
 "nbformat": 4,
 "nbformat_minor": 2
}
