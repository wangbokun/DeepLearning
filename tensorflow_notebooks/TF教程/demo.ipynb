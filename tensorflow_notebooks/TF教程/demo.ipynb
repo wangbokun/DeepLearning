{
 "cells": [
  {
   "cell_type": "code",
   "execution_count": 1,
   "metadata": {},
   "outputs": [],
   "source": [
    "import tensorflow as tf"
   ]
  },
  {
   "cell_type": "code",
   "execution_count": 18,
   "metadata": {},
   "outputs": [
    {
     "name": "stdout",
     "output_type": "stream",
     "text": [
      "Tensor(\"Const_26:0\", shape=(), dtype=float32) ()\n",
      "Tensor(\"Const_27:0\", shape=(), dtype=float32) ()\n",
      "3.0 4.0\n",
      "7.0\n"
     ]
    }
   ],
   "source": [
    "node1 = tf.constant(3.0,dtype=tf.float32)\n",
    "node2 = tf.constant(4.0)\n",
    "\n",
    "print(node1,node1.shape)\n",
    "print(node2,node2.shape)\n",
    "init = tf.global_variables_initializer()\n",
    "\n",
    "\n",
    "node3 = tf.add(node1,node2)\n",
    "\n",
    "with  tf.Session() as  sess:\n",
    "    sess.run(init)\n",
    "    \n",
    "    n1 = sess.run(node1)\n",
    "    n2 = sess.run(node2)\n",
    "    n3 = sess.run(node3)\n",
    "    \n",
    "    print(n1,n2)\n",
    "    \n",
    "    print(n3)\n",
    "\n"
   ]
  },
  {
   "cell_type": "code",
   "execution_count": 25,
   "metadata": {},
   "outputs": [
    {
     "name": "stdout",
     "output_type": "stream",
     "text": [
      "Tensor(\"add_6:0\", dtype=float32)\n",
      "7.5\n",
      "[ 3.  6.]\n"
     ]
    }
   ],
   "source": [
    "\n",
    "a= tf.placeholder(tf.float32)\n",
    "b= tf.placeholder(tf.float32)\n",
    "\n",
    "adder_node = a+ b\n",
    "\n",
    "print(adder_node)\n",
    "\n",
    "with  tf.Session() as  sess:\n",
    "    print(sess.run(adder_node,{a:3,b:4.5}))\n",
    "    \n",
    "    print(sess.run(adder_node,{a:[1,2],b:[2,4]}))\n",
    "\n",
    "\n"
   ]
  },
  {
   "cell_type": "code",
   "execution_count": 26,
   "metadata": {},
   "outputs": [],
   "source": []
  },
  {
   "cell_type": "code",
   "execution_count": 31,
   "metadata": {},
   "outputs": [
    {
     "name": "stdout",
     "output_type": "stream",
     "text": [
      "<tf.Variable 'Variable_7:0' shape=(1,) dtype=float32_ref> <tf.Variable 'Variable_8:0' shape=(1,) dtype=float32_ref>\n",
      "W: [-0.9999969] b: [ 0.99999082] loss: 5.69997e-11\n"
     ]
    }
   ],
   "source": [
    "import tensorflow as tf\n",
    "\n",
    "# Model parameters\n",
    "W = tf.Variable([.3], dtype=tf.float32)\n",
    "b = tf.Variable([-.3], dtype=tf.float32)\n",
    "\n",
    "\n",
    "\n",
    "# Model input and output\n",
    "x = tf.placeholder(tf.float32)\n",
    "linear_model = W*x + b\n",
    "y = tf.placeholder(tf.float32)\n",
    "\n",
    "# loss\n",
    "loss = tf.reduce_sum(tf.square(linear_model - y)) # sum of the squares\n",
    "# optimizer\n",
    "optimizer = tf.train.GradientDescentOptimizer(0.01)\n",
    "train = optimizer.minimize(loss)\n",
    "\n",
    "# training data\n",
    "x_train = [1, 2, 3, 4]\n",
    "y_train = [0, -1, -2, -3]\n",
    "# training loop\n",
    "init = tf.global_variables_initializer()\n",
    "sess = tf.Session()\n",
    "sess.run(init) # reset values to wrong\n",
    "for i in range(1000):\n",
    "  sess.run(train, {x: x_train, y: y_train})\n",
    "\n",
    "# evaluate training accuracy\n",
    "curr_W, curr_b, curr_loss = sess.run([W, b, loss], {x: x_train, y: y_train})\n",
    "print(\"W: %s b: %s loss: %s\"%(curr_W, curr_b, curr_loss))\n"
   ]
  }
 ],
 "metadata": {
  "kernelspec": {
   "display_name": "Python 3",
   "language": "python",
   "name": "python3"
  },
  "language_info": {
   "codemirror_mode": {
    "name": "ipython",
    "version": 3
   },
   "file_extension": ".py",
   "mimetype": "text/x-python",
   "name": "python",
   "nbconvert_exporter": "python",
   "pygments_lexer": "ipython3",
   "version": "3.5.0"
  }
 },
 "nbformat": 4,
 "nbformat_minor": 2
}
