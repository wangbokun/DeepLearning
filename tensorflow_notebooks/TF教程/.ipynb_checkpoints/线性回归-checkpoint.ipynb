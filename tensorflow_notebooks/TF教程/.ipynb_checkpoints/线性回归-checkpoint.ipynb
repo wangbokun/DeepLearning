{
 "cells": [
  {
   "cell_type": "code",
   "execution_count": 1,
   "metadata": {},
   "outputs": [],
   "source": [
    "import tensorflow as tf \n",
    "import numpy as np\n",
    "import matplotlib.pyplot as plt"
   ]
  },
  {
   "cell_type": "code",
   "execution_count": 5,
   "metadata": {},
   "outputs": [
    {
     "name": "stdout",
     "output_type": "stream",
     "text": [
      "[[-0.5       ]\n",
      " [-0.38888889]\n",
      " [-0.27777778]\n",
      " [-0.16666667]\n",
      " [-0.05555556]\n",
      " [ 0.05555556]\n",
      " [ 0.16666667]\n",
      " [ 0.27777778]\n",
      " [ 0.38888889]\n",
      " [ 0.5       ]]\n"
     ]
    }
   ],
   "source": [
    "x_data = np.linspace(-0.5,0.5,10)[:,np.newaxis]\n",
    "\n",
    "noise = np.random.normal(0,0.02,x_data.shape)\n",
    "\n",
    "y_data = np.square(x_data) + noise\n",
    "print(y_data)"
   ]
  }
 ],
 "metadata": {
  "kernelspec": {
   "display_name": "Python 3",
   "language": "python",
   "name": "python3"
  },
  "language_info": {
   "codemirror_mode": {
    "name": "ipython",
    "version": 3
   },
   "file_extension": ".py",
   "mimetype": "text/x-python",
   "name": "python",
   "nbconvert_exporter": "python",
   "pygments_lexer": "ipython3",
   "version": "3.5.0"
  }
 },
 "nbformat": 4,
 "nbformat_minor": 2
}
