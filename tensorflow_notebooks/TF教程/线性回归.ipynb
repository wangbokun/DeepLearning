{
 "cells": [
  {
   "cell_type": "code",
   "execution_count": 1,
   "metadata": {},
   "outputs": [],
   "source": [
    "import tensorflow as tf \n",
    "import numpy as np\n",
    "import matplotlib.pyplot as plt"
   ]
  },
  {
   "cell_type": "code",
   "execution_count": 6,
   "metadata": {},
   "outputs": [
    {
     "name": "stdout",
     "output_type": "stream",
     "text": [
      "[[ 0.25883062]\n",
      " [ 0.17192121]\n",
      " [ 0.09132859]\n",
      " [-0.01671013]\n",
      " [ 0.00492278]\n",
      " [-0.02975863]\n",
      " [ 0.02277302]\n",
      " [ 0.06791114]\n",
      " [ 0.15761763]\n",
      " [ 0.24728747]]\n"
     ]
    }
   ],
   "source": [
    "x_data = np.linspace(-0.5,0.5,10)[:,np.newaxis]\n",
    "\n",
    "noise = np.random.normal(0,0.02,x_data.shape)\n",
    "\n",
    "y_data = np.square(x_data) + noise\n",
    "print(y_data)"
   ]
  }
 ],
 "metadata": {
  "kernelspec": {
   "display_name": "Python 3",
   "language": "python",
   "name": "python3"
  },
  "language_info": {
   "codemirror_mode": {
    "name": "ipython",
    "version": 3
   },
   "file_extension": ".py",
   "mimetype": "text/x-python",
   "name": "python",
   "nbconvert_exporter": "python",
   "pygments_lexer": "ipython3",
   "version": "3.5.0"
  }
 },
 "nbformat": 4,
 "nbformat_minor": 2
}
