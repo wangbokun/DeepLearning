{
 "cells": [
  {
   "cell_type": "code",
   "execution_count": 3,
   "metadata": {},
   "outputs": [
    {
     "data": {
      "text/plain": [
       "'\\nsupport  vector machine\\n\\nmargin  使边际最大\\nhyper plane 超平面\\n\\n1963 年提出\\n\\n训练集 -- 提取特征向量--结合一定算法：比如决策时，knn，(svm)--得到结果\\n'"
      ]
     },
     "execution_count": 3,
     "metadata": {},
     "output_type": "execute_result"
    }
   ],
   "source": [
    "'''\n",
    "support  vector machine\n",
    "\n",
    "margin  使边际最大\n",
    "hyper plane 超平面\n",
    "\n",
    "1963 年提出\n",
    "\n",
    "训练集 -- 提取特征向量--结合一定算法：比如决策时，knn，(svm)--得到结果\n",
    "\n",
    "\n",
    "\n",
    "如何选择最大超平面？\n",
    "超平面到一侧最近点的距离 等于 到另一侧最近点的距离， 两侧的超平面保持平衡\n",
    "\n",
    "\n",
    "线性不可分\n",
    " \n",
    " W：weiht vector\n",
    " X： 训练实例\n",
    " b：bias\n",
    "'''"
   ]
  },
  {
   "cell_type": "code",
   "execution_count": 28,
   "metadata": {},
   "outputs": [
    {
     "name": "stdout",
     "output_type": "stream",
     "text": [
      "SVC(C=1.0, cache_size=200, class_weight=None, coef0=0.0,\n",
      "  decision_function_shape='ovr', degree=3, gamma='auto', kernel='linear',\n",
      "  max_iter=-1, probability=False, random_state=None, shrinking=True,\n",
      "  tol=0.001, verbose=False)\n",
      "[[ 1.  1.]\n",
      " [ 2.  3.]]\n",
      "[1 2]\n",
      "[1 1]\n",
      "[1]\n",
      "[0]\n"
     ]
    }
   ],
   "source": [
    "from sklearn import svm\n",
    "\n",
    "\n",
    "x = [\n",
    "        [2,0],\n",
    "        [1,1],\n",
    "        [2,3],\n",
    "        [5,7]\n",
    "    ]\n",
    "\n",
    "\n",
    "y = [0,0,1,1]\n",
    "\n",
    "\n",
    "clf = svm.SVC(kernel = 'linear')\n",
    "clf.fit(x,y)\n",
    "\n",
    "print(clf)\n",
    "\n",
    "print(clf.support_vectors_)\n",
    "#支持向量的点的index\n",
    "print(clf.support_)\n",
    "\n",
    "print(clf.n_support_)\n",
    "\n",
    "print(clf.predict([[2,8]]))\n",
    "\n",
    "\n",
    "print(clf.predict([[2,0]]))\n",
    "\n",
    "\n",
    "\n"
   ]
  },
  {
   "cell_type": "code",
   "execution_count": null,
   "metadata": {},
   "outputs": [],
   "source": []
  },
  {
   "cell_type": "code",
   "execution_count": null,
   "metadata": {},
   "outputs": [],
   "source": []
  },
  {
   "cell_type": "code",
   "execution_count": null,
   "metadata": {},
   "outputs": [],
   "source": []
  },
  {
   "cell_type": "code",
   "execution_count": null,
   "metadata": {},
   "outputs": [],
   "source": []
  },
  {
   "cell_type": "code",
   "execution_count": null,
   "metadata": {},
   "outputs": [],
   "source": []
  },
  {
   "cell_type": "code",
   "execution_count": null,
   "metadata": {},
   "outputs": [],
   "source": []
  },
  {
   "cell_type": "code",
   "execution_count": null,
   "metadata": {},
   "outputs": [],
   "source": []
  },
  {
   "cell_type": "code",
   "execution_count": null,
   "metadata": {},
   "outputs": [],
   "source": []
  }
 ],
 "metadata": {
  "kernelspec": {
   "display_name": "Python 3",
   "language": "python",
   "name": "python3"
  },
  "language_info": {
   "codemirror_mode": {
    "name": "ipython",
    "version": 3
   },
   "file_extension": ".py",
   "mimetype": "text/x-python",
   "name": "python",
   "nbconvert_exporter": "python",
   "pygments_lexer": "ipython3",
   "version": "3.5.0"
  }
 },
 "nbformat": 4,
 "nbformat_minor": 2
}
